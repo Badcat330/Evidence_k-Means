{
 "cells": [
  {
   "cell_type": "code",
   "execution_count": 15,
   "metadata": {},
   "outputs": [
    {
     "name": "stdout",
     "output_type": "stream",
     "text": [
      "Welcome to the CBC MILP Solver \n",
      "Version: 2.10.3 \n",
      "Build Date: Dec 15 2019 \n",
      "\n",
      "command line - /Users/alexglushko/PycharmProjects/evidence_k_means/venv/lib/python3.9/site-packages/pulp/solverdir/cbc/osx/64/cbc /var/folders/8q/sgl781rj2dx5hblndkkmhd340000gn/T/2a3a4607d2ca4a7c9faf084a8851704c-pulp.mps max timeMode elapsed branch printingOptions all solution /var/folders/8q/sgl781rj2dx5hblndkkmhd340000gn/T/2a3a4607d2ca4a7c9faf084a8851704c-pulp.sol (default strategy 1)\n",
      "At line 2 NAME          MODEL\n",
      "At line 3 ROWS\n",
      "At line 6 COLUMNS\n",
      "At line 11 RHS\n",
      "At line 13 BOUNDS\n",
      "At line 16 ENDATA\n",
      "Problem MODEL has 1 rows, 2 columns and 2 elements\n",
      "Coin0008I MODEL read with 0 errors\n",
      "Option for timeMode changed from cpu to elapsed\n",
      "Presolve 0 (-1) rows, 0 (-2) columns and 0 (-2) elements\n",
      "Empty problem - 0 rows, 0 columns and 0 elements\n",
      "Optimal - objective value 0.4\n",
      "After Postsolve, objective 0.4, infeasibilities - dual 0 (0), primal 0 (0)\n",
      "Optimal objective 0.4 - 0 iterations time 0.002, Presolve 0.00\n",
      "Option for printingOptions changed from normal to all\n",
      "Total time (CPU seconds):       0.00   (Wallclock seconds):       0.00\n",
      "\n"
     ]
    },
    {
     "data": {
      "text/plain": [
       "1"
      ]
     },
     "execution_count": 15,
     "metadata": {},
     "output_type": "execute_result"
    }
   ],
   "source": [
    "from pulp import LpMaximize, LpProblem, LpStatus, lpSum, LpVariable\n",
    "from math import log\n",
    "\n",
    "model = LpProblem(name=\"small-problem\", sense=LpMaximize)\n",
    "x = LpVariable(name=\"x\", lowBound=0, upBound=1)\n",
    "y = LpVariable(name=\"y\", lowBound=0, upBound=1)\n",
    "obj_func = 0.4*x + 0.4*y\n",
    "constraint = x + y == 1\n",
    "model += obj_func\n",
    "model += constraint\n",
    "status = model.solve()\n",
    "status"
   ]
  },
  {
   "cell_type": "code",
   "execution_count": 16,
   "metadata": {},
   "outputs": [
    {
     "name": "stdout",
     "output_type": "stream",
     "text": [
      "x: 1.0\n",
      "y: 0.0\n"
     ]
    }
   ],
   "source": [
    "for var in model.variables():\n",
    "    print(f\"{var.name}: {var.value()}\")"
   ]
  },
  {
   "cell_type": "code",
   "execution_count": null,
   "metadata": {},
   "outputs": [],
   "source": []
  }
 ],
 "metadata": {
  "kernelspec": {
   "display_name": "venv",
   "language": "python",
   "name": "python3"
  },
  "language_info": {
   "codemirror_mode": {
    "name": "ipython",
    "version": 3
   },
   "file_extension": ".py",
   "mimetype": "text/x-python",
   "name": "python",
   "nbconvert_exporter": "python",
   "pygments_lexer": "ipython3",
   "version": "3.9.12"
  },
  "orig_nbformat": 4,
  "vscode": {
   "interpreter": {
    "hash": "2fff726f44e9309aec8c9eb08c258fa67e99f712b0082f6aea04f3e2a2e6acc8"
   }
  }
 },
 "nbformat": 4,
 "nbformat_minor": 2
}
