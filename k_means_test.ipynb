{
 "cells": [
  {
   "attachments": {},
   "cell_type": "markdown",
   "metadata": {},
   "source": [
    "# Check algorithms"
   ]
  },
  {
   "cell_type": "code",
   "execution_count": 1,
   "metadata": {},
   "outputs": [
    {
     "data": {
      "text/plain": [
       "([[({1}, 1.0)], [({2}, 1.0)]],\n",
       " [[[{1}, 0.3], [{1, 3}, 0.3]], [[{2}, 0.2], [{2, 3}, 0.2]]])"
      ]
     },
     "execution_count": 1,
     "metadata": {},
     "output_type": "execute_result"
    }
   ],
   "source": [
    "from evidence_clusterizer import EvidenceKMeans\n",
    "\n",
    "clusterizer = EvidenceKMeans(l=2, con_threshold=1)\n",
    "clusterizer.fit([({1}, 0.3), ({2}, 0.2), ({1, 3}, 0.3), ({2, 3}, 0.2)])\n",
    "clusterizer._clusters_centers, clusterizer._clusters_values"
   ]
  },
  {
   "cell_type": "code",
   "execution_count": 2,
   "metadata": {},
   "outputs": [
    {
     "data": {
      "text/plain": [
       "([[({1, 2, 3}, 1.0)], [({4, 5}, 1.0)]],\n",
       " [[[{1, 2, 3}, 0.2],\n",
       "   [{3, 4}, 0.1],\n",
       "   [{1}, 0.1],\n",
       "   [{2, 3}, 0.05],\n",
       "   [{3, 4}, 0.05]],\n",
       "  [[{4, 5}, 0.5]]])"
      ]
     },
     "execution_count": 2,
     "metadata": {},
     "output_type": "execute_result"
    }
   ],
   "source": [
    "from evidence_clusterizer import EvidenceKMeans\n",
    "\n",
    "clusterizer = EvidenceKMeans(l=2, con_threshold=1)\n",
    "clusterizer.fit([({1, 2, 3}, 0.2), ({4, 5}, 0.5), ({3, 4}, 0.1), ({1}, 0.1), ({2, 3}, 0.05), ({3, 4}, 0.05)])\n",
    "clusterizer._clusters_centers, clusterizer._clusters_values"
   ]
  }
 ],
 "metadata": {
  "kernelspec": {
   "display_name": "venv",
   "language": "python",
   "name": "python3"
  },
  "language_info": {
   "codemirror_mode": {
    "name": "ipython",
    "version": 3
   },
   "file_extension": ".py",
   "mimetype": "text/x-python",
   "name": "python",
   "nbconvert_exporter": "python",
   "pygments_lexer": "ipython3",
   "version": "3.9.12"
  },
  "orig_nbformat": 4,
  "vscode": {
   "interpreter": {
    "hash": "2fff726f44e9309aec8c9eb08c258fa67e99f712b0082f6aea04f3e2a2e6acc8"
   }
  }
 },
 "nbformat": 4,
 "nbformat_minor": 2
}
